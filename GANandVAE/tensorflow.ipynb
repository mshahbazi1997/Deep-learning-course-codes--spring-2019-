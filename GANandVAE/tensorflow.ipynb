{
 "cells": [
  {
   "cell_type": "code",
   "execution_count": 2,
   "metadata": {},
   "outputs": [],
   "source": [
    "import tensorflow as tf\n",
    "tf.reset_default_graph()\n",
    "\n",
    "batch_size = 100\n",
    "BatchSize = 100\n",
    "lr = 0.0002\n",
    "train_epoch = 20\n",
    "\n",
    "tf.reset_default_graph()\n",
    "\n",
    "\n",
    "\n",
    "\n",
    "def D_logit(x, isTrain=True): # construct discriminator structure\n",
    "    # 1st hidden layer\n",
    "    conv1 = tf.layers.conv2d(x, 128, [4, 4], strides=(2, 2), padding='same')\n",
    "    #lrelu1 = lrelu(conv1, 0.2)\n",
    "    lrelu1 = tf.nn.leaky_relu(conv1,alpha=0.2)\n",
    "\n",
    "    # 2nd hidden layer\n",
    "    conv2 = tf.layers.conv2d(lrelu1, 256, [4, 4], strides=(2, 2), padding='same')\n",
    "    #lrelu2 = lrelu(tf.layers.batch_normalization(conv2, training=isTrain,activation = tf.nn.leaky_relu(alpha=0.2)), 0.2)\n",
    "    bn2 = tf.layers.batch_normalization(conv2, training=isTrain)\n",
    "    lrelu2 = tf.nn.leaky_relu(bn2,alpha=0.2)\n",
    "\n",
    "    # 3rd hidden layer\n",
    "    conv3 = tf.layers.conv2d(lrelu2, 512, [4, 4], strides=(2, 2), padding='same')\n",
    "    #lrelu3 = lrelu(tf.layers.batch_normalization(conv3, training=isTrain), 0.2)\n",
    "    lrelu3 = tf.nn.leaky_relu(conv3,alpha=0.2)\n",
    "\n",
    "    # 4th hidden layer\n",
    "    conv4 = tf.layers.conv2d(lrelu3, 1024, [4, 4], strides=(2, 2), padding='same')\n",
    "    #lrelu4 = lrelu(tf.layers.batch_normalization(conv4, training=isTrain), 0.2)\n",
    "    bn4 = tf.layers.batch_normalization(conv4, training=isTrain)\n",
    "    lrelu4 = tf.nn.leaky_relu(bn4,alpha=0.2)\n",
    "    # output layer\n",
    "    \n",
    "    conv5 = tf.layers.conv2d(lrelu4, 1, [4, 4], strides=(1, 1), padding='valid')\n",
    "    logit = tf.nn.sigmoid(conv5)\n",
    "    \n",
    "    return logit,conv5\n",
    "\n",
    "\n",
    "def G(x, isTrain=True): # construct generator structure\n",
    "     # 1st hidden layer\n",
    "    conv1 = tf.layers.conv2d_transpose(x, 1024, [4, 4], strides=(1, 1), padding='valid')\n",
    "    bn1 = tf.layers.batch_normalization(conv1, training=isTrain)\n",
    "    lrelu1 = tf.nn.leaky_relu(bn1,alpha=0.2)\n",
    "    \n",
    "    # 2nd hidden layer\n",
    "    conv2 = tf.layers.conv2d_transpose(lrelu1, 512, [4, 4], strides=(2, 2), padding='same')\n",
    "    bn2 = tf.layers.batch_normalization(conv2, training=isTrain)\n",
    "    lrelu2 = tf.nn.leaky_relu(bn2,alpha=0.2)\n",
    "\n",
    "    # 3rd hidden layer\n",
    "    conv3 = tf.layers.conv2d_transpose(lrelu2, 256, [4, 4], strides=(2, 2), padding='same')\n",
    "    bn3 = tf.layers.batch_normalization(conv3, training=isTrain)\n",
    "    lrelu3 = tf.nn.leaky_relu(bn3,alpha=0.2)\n",
    "\n",
    "    # 4th hidden layer\n",
    "    conv4 = tf.layers.conv2d_transpose(lrelu3, 128, [4, 4], strides=(2, 2), padding='same')\n",
    "    bn4 = tf.layers.batch_normalization(conv4, training=isTrain)\n",
    "    lrelu4 = tf.nn.leaky_relu(bn4, 0.2)\n",
    "\n",
    "    # output layer\n",
    "    conv5 = tf.layers.conv2d_transpose(lrelu4, 1, [4, 4], strides=(2, 2), padding='same')\n",
    "    img = tf.nn.tanh(conv5)\n",
    "    return img\n",
    "\n",
    "\n",
    "\n",
    "Z = tf.placeholder(tf.float32, [None,1,1, 100], name=\"latent_value\")\n",
    "with tf.variable_scope(\"Generator\"):\n",
    "    fake_img = G(Z)\n",
    "\n",
    "isTrain = tf.placeholder(dtype=tf.bool)\n",
    "\n",
    "real_img = tf.placeholder(tf.float32, [None, 64, 64, 1], name=\"real_image\")\n",
    "with tf.variable_scope(\"Discriminator\"):\n",
    "    D_real, D_logit_real = D_logit(real_img)\n",
    "with tf.variable_scope(\"Discriminator\", reuse=True):\n",
    "    D_fake, D_logit_fake = D_logit(fake_img)"
   ]
  },
  {
   "cell_type": "code",
   "execution_count": 3,
   "metadata": {},
   "outputs": [],
   "source": [
    "D_loss_real = tf.reduce_mean(tf.nn.sigmoid_cross_entropy_with_logits(logits=D_logit_real, labels=tf.ones([BatchSize, 1, 1, 1])))\n",
    "D_loss_fake = tf.reduce_mean(tf.nn.sigmoid_cross_entropy_with_logits(logits=D_logit_fake, labels=tf.zeros([BatchSize, 1, 1, 1])))\n",
    "D_loss = D_loss_real + D_loss_fake\n",
    "G_loss = tf.reduce_mean(tf.nn.sigmoid_cross_entropy_with_logits(logits=D_logit_fake, labels=tf.ones([BatchSize, 1, 1, 1])))"
   ]
  },
  {
   "cell_type": "code",
   "execution_count": 4,
   "metadata": {},
   "outputs": [
    {
     "name": "stdout",
     "output_type": "stream",
     "text": [
      "D tensor number: 14\n",
      "G tensor number: 18\n"
     ]
    }
   ],
   "source": [
    "D_optim_vars = tf.get_collection(tf.GraphKeys.TRAINABLE_VARIABLES, scope=\"Discriminator\")\n",
    "print(\"D tensor number:\", len(D_optim_vars))\n",
    "G_optim_vars = tf.get_collection(tf.GraphKeys.TRAINABLE_VARIABLES, scope=\"Generator\")\n",
    "print(\"G tensor number:\", len(G_optim_vars))\n",
    "\n",
    "D_optim = tf.train.AdamOptimizer(lr, beta1=0.5)\n",
    "D_train_op = D_optim.minimize(D_loss, var_list=D_optim_vars)\n",
    "\n",
    "G_optim = tf.train.AdamOptimizer(lr, beta1=0.5)\n",
    "G_train_op = G_optim.minimize(G_loss, var_list=G_optim_vars)"
   ]
  },
  {
   "cell_type": "code",
   "execution_count": 37,
   "metadata": {},
   "outputs": [
    {
     "name": "stdout",
     "output_type": "stream",
     "text": [
      "Extracting ./MNIST_data/train-images-idx3-ubyte.gz\n",
      "Extracting ./MNIST_data/train-labels-idx1-ubyte.gz\n",
      "Extracting ./MNIST_data/t10k-images-idx3-ubyte.gz\n",
      "Extracting ./MNIST_data/t10k-labels-idx1-ubyte.gz\n"
     ]
    }
   ],
   "source": [
    "from tensorflow.examples.tutorials.mnist import input_data\n",
    "\n",
    "mnist = input_data.read_data_sets(\"./MNIST_data/\", one_hot=True, reshape=[])\n",
    "# Note that this class downloads the dataset automatically. Iran's IP is banned, so use proxy or download it manually."
   ]
  },
  {
   "cell_type": "code",
   "execution_count": 38,
   "metadata": {},
   "outputs": [
    {
     "name": "stdout",
     "output_type": "stream",
     "text": [
      "0.0 1.0\n"
     ]
    },
    {
     "data": {
      "image/png": "[encoded data removed]",
      "text/plain": [
       "<Figure size 720x216 with 30 Axes>"
      ]
     },
     "metadata": {
      "needs_background": "light"
     },
     "output_type": "display_data"
    }
   ],
   "source": [
    "import numpy as np\n",
    "import matplotlib.pyplot as plt\n",
    "%matplotlib inline\n",
    "plt.rcParams['figure.figsize'] = (10, 3) # set default size of plots\n",
    "\n",
    "data, _ = mnist.train.next_batch(BatchSize)\n",
    "data = data.reshape(BatchSize,28,28)\n",
    "print(np.min(data),np.max(data))\n",
    "\n",
    "# plot the images\n",
    "for i in range(3):\n",
    "    for j in range(10):\n",
    "        plt.subplot(3, 10, i * 10 + j + 1)\n",
    "        plt.imshow(data[i * 10 + j], cmap=\"gray\",vmin=0,vmax=1)\n",
    "plt.show()"
   ]
  },
  {
   "cell_type": "code",
   "execution_count": 39,
   "metadata": {},
   "outputs": [],
   "source": [
    "BatchSize = 100\n",
    "import os, time, itertools, imageio, pickle\n"
   ]
  },
  {
   "cell_type": "code",
   "execution_count": null,
   "metadata": {},
   "outputs": [],
   "source": [
    "config = tf.ConfigProto()\n",
    "config.gpu_options.allow_growth = True\n",
    "\n",
    "def Z_Generator():\n",
    "    return np.random.normal(size=(BatchSize,1,1,100))\n",
    "\n",
    "MasterZ = Z_Generator()\n",
    "\n",
    "with tf.Session(config=config) as sess:\n",
    "    sess.run(tf.global_variables_initializer())\n",
    "    train_set = tf.image.resize_images(mnist.train.images, [64, 64]).eval()\n",
    "    train_set = (train_set - 0.5) / 0.5  # normalization; range: -1 ~ 1\n",
    "    print('training start!')\n",
    "    \n",
    "    for epoch in range(train_epoch):\n",
    "        G_losses = []\n",
    "        D_losses = []\n",
    "        epoch_start_time = time.time()\n",
    "        for iter in range(mnist.train.num_examples // batch_size):\n",
    "            # update discriminator\n",
    "            x_ = train_set[iter*batch_size:(iter+1)*batch_size]\n",
    "            \n",
    "            z_ = np.random.normal(0, 1, (batch_size, 1, 1, 100))\n",
    "            \n",
    "            \n",
    "            D_loss_value, _ = sess.run([D_loss, D_train_op], {real_img: x_, Z: z_, isTrain: True})\n",
    "            D_losses.append(D_loss_value)\n",
    "\n",
    "            # update generator\n",
    "            z_ = np.random.normal(0, 1, (batch_size, 1, 1, 100))\n",
    "            G_loss_value, _ = sess.run([G_loss, G_train_op], {Z: z_, real_img: x_, isTrain: True})\n",
    "            G_losses.append(G_loss_value)\n",
    "\n",
    "            if iter % 100 == 0:\n",
    "                print(\"=\"*30 + str(iter) + \"=\"*30)\n",
    "                print(\"D loss = %f\\tG loss=%f\"%(D_loss_value,G_loss_value))\n",
    "                images = sess.run(fake_img, {Z: MasterZ, isTrain: False})\n",
    "                # plot the images\n",
    "                for i in range(3):\n",
    "                    for j in range(10):\n",
    "                        plt.subplot(3, 10, i * 10 + j + 1)\n",
    "                        plt.imshow(np.reshape(images[i * 10 + j], (64, 64)), cmap=\"gray\")\n",
    "                plt.show()\n",
    "        \n",
    "    epoch_end_time = time.time()\n",
    "    per_epoch_ptime = epoch_end_time - epoch_start_time\n",
    "\n",
    "sess.close()"
   ]
  }
 ],
 "metadata": {
  "kernelspec": {
   "display_name": "Python 3",
   "language": "python",
   "name": "python3"
  },
  "language_info": {
   "codemirror_mode": {
    "name": "ipython",
    "version": 3
   },
   "file_extension": ".py",
   "mimetype": "text/x-python",
   "name": "python",
   "nbconvert_exporter": "python",
   "pygments_lexer": "ipython3",
   "version": "3.7.1"
  }
 },
 "nbformat": 4,
 "nbformat_minor": 2
}
